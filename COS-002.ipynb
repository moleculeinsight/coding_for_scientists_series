{
 "cells": [
  {
   "cell_type": "markdown",
   "id": "8358c373",
   "metadata": {},
   "source": [
    "__[Here is the post associated with this notebook](https://moleculeinsight.com/coding-for-scientists-002/)__"
   ]
  },
  {
   "cell_type": "code",
   "execution_count": 1,
   "id": "e4c3d8bf-614e-4228-90bf-166c85b3cdcd",
   "metadata": {},
   "outputs": [],
   "source": [
    "atom = \"hydrogen\"\n",
    "ic50 = 0.001"
   ]
  },
  {
   "cell_type": "code",
   "execution_count": 11,
   "id": "172b6df5",
   "metadata": {},
   "outputs": [
    {
     "name": "stdout",
     "output_type": "stream",
     "text": [
      "a 3\n",
      "b 3\n",
      "c 8\n"
     ]
    }
   ],
   "source": [
    "a = 15 // 4 # a is 3\n",
    "b = 15 % 4 # b is 3\n",
    "c = 2 ** 3 # c is 8\n",
    "print ('a', a)\n",
    "print ('b', b)\n",
    "print ('c', c)"
   ]
  },
  {
   "cell_type": "code",
   "execution_count": 12,
   "id": "c33f1986",
   "metadata": {},
   "outputs": [
    {
     "name": "stdout",
     "output_type": "stream",
     "text": [
      "100\n"
     ]
    }
   ],
   "source": [
    "aa = 1\n",
    "bb = aa * 10\n",
    "cc = bb**2\n",
    "print (cc)"
   ]
  },
  {
   "cell_type": "code",
   "execution_count": 14,
   "id": "15fdf5c1",
   "metadata": {},
   "outputs": [],
   "source": [
    "gene_a = \"AGTCTTCG\"\n",
    "gene_b = 'GCTCTGGG'"
   ]
  },
  {
   "cell_type": "code",
   "execution_count": 15,
   "id": "98501533",
   "metadata": {},
   "outputs": [
    {
     "name": "stdout",
     "output_type": "stream",
     "text": [
      "ATGCGTAC\n"
     ]
    }
   ],
   "source": [
    "sequence1 = \"ATG\"\n",
    "sequence2 = \"CGTAC\"\n",
    "full_sequence = sequence1 + sequence2\n",
    "print(full_sequence)"
   ]
  },
  {
   "cell_type": "code",
   "execution_count": 16,
   "id": "0fb66c46",
   "metadata": {},
   "outputs": [
    {
     "name": "stdout",
     "output_type": "stream",
     "text": [
      "ATGATGATG\n"
     ]
    }
   ],
   "source": [
    "motif = \"ATG\"\n",
    "repeated_motif = motif * 3  \n",
    "print(repeated_motif)"
   ]
  },
  {
   "cell_type": "code",
   "execution_count": 17,
   "id": "30a9330e",
   "metadata": {},
   "outputs": [
    {
     "name": "stdout",
     "output_type": "stream",
     "text": [
      "MVHL\n"
     ]
    }
   ],
   "source": [
    "protein_sequence = \"MVHLTPEEKSAVTALWGKVNV\"\n",
    "sub_sequence = protein_sequence[0:4]  # gets first 4 amino acids\n",
    "print(sub_sequence)"
   ]
  },
  {
   "cell_type": "code",
   "execution_count": 18,
   "id": "0501de9c",
   "metadata": {},
   "outputs": [
    {
     "name": "stdout",
     "output_type": "stream",
     "text": [
      "21\n"
     ]
    }
   ],
   "source": [
    "sequence_length = len(protein_sequence)\n",
    "print(sequence_length)"
   ]
  },
  {
   "cell_type": "code",
   "execution_count": 19,
   "id": "6d913831",
   "metadata": {},
   "outputs": [
    {
     "name": "stdout",
     "output_type": "stream",
     "text": [
      "AGCTTTTGGAAC\n"
     ]
    }
   ],
   "source": [
    "dna_sequence = \"CGTTTTTGGAAC\"\n",
    "mutated_sequence = dna_sequence.replace(\"CGT\", \"AGC\")  # \"ATGAGCTAC\"\n",
    "print (mutated_sequence)"
   ]
  },
  {
   "cell_type": "code",
   "execution_count": 20,
   "id": "a0106311",
   "metadata": {},
   "outputs": [
    {
     "name": "stdout",
     "output_type": "stream",
     "text": [
      "Is the solution neutral? True\n"
     ]
    }
   ],
   "source": [
    "# pH value\n",
    "ph_value = 7.0\n",
    "\n",
    "# Check if the solution is neutral\n",
    "is_neutral = (ph_value == 7.0)\n",
    "print(\"Is the solution neutral?\", is_neutral)"
   ]
  },
  {
   "cell_type": "code",
   "execution_count": 21,
   "id": "d4070d6d",
   "metadata": {},
   "outputs": [
    {
     "name": "stdout",
     "output_type": "stream",
     "text": [
      "first_kd: 22.5\n",
      "last_kd: 1\n"
     ]
    }
   ],
   "source": [
    "# List of dissociation constants (Kd) in micromolar (µM) \n",
    "kd = [22.5, 0.01, 23.7, 0.1, 5, 22.1, 1]\n",
    "\n",
    "# Accessing the first Kd value \n",
    "first_kd = kd[0] # 22.5 \n",
    "\n",
    "# Accessing the last Kd value \n",
    "last_kd = kd[-1] # 1\n",
    "\n",
    "print (\"first_kd:\", first_kd)\n",
    "print (\"last_kd:\", last_kd)"
   ]
  },
  {
   "cell_type": "code",
   "execution_count": 22,
   "id": "476dd3e6",
   "metadata": {},
   "outputs": [
    {
     "name": "stdout",
     "output_type": "stream",
     "text": [
      "[25.0, 0.01, 23.7, 0.1, 5, 22.1, 1]\n"
     ]
    }
   ],
   "source": [
    "# Changing the first Kd value\n",
    "kd[0] = 25.0\n",
    "print(kd)"
   ]
  },
  {
   "cell_type": "code",
   "execution_count": 23,
   "id": "b1ccdb12",
   "metadata": {},
   "outputs": [
    {
     "name": "stdout",
     "output_type": "stream",
     "text": [
      "[25.0, 0.01, 23.7, 0.1, 5, 22.1, 1, 0.5]\n"
     ]
    }
   ],
   "source": [
    "\n",
    "# Adding a new Kd value at the end\n",
    "kd.append(0.5)\n",
    "print(kd)"
   ]
  },
  {
   "cell_type": "code",
   "execution_count": 24,
   "id": "bf23234b",
   "metadata": {},
   "outputs": [
    {
     "name": "stdout",
     "output_type": "stream",
     "text": [
      "[25.0, 0.01, 23.7, 0.05, 0.1, 5, 22.1, 1, 0.5]\n"
     ]
    }
   ],
   "source": [
    "# Inserting a Kd value at a specific position\n",
    "kd.insert(3, 0.05)\n",
    "print(kd)"
   ]
  },
  {
   "cell_type": "code",
   "execution_count": 25,
   "id": "577280e3",
   "metadata": {},
   "outputs": [
    {
     "name": "stdout",
     "output_type": "stream",
     "text": [
      "[25.0, 0.01, 23.7, 0.05, 0.1, 22.1, 1, 0.5]\n"
     ]
    }
   ],
   "source": [
    "\n",
    "# Removing a specific Kd value by its value\n",
    "kd.remove(5)\n",
    "print(kd)"
   ]
  },
  {
   "cell_type": "code",
   "execution_count": 26,
   "id": "66c19854",
   "metadata": {},
   "outputs": [
    {
     "name": "stdout",
     "output_type": "stream",
     "text": [
      "[25.0, 0.01, 23.7, 0.05, 0.1, 22.1, 1]\n"
     ]
    }
   ],
   "source": [
    "\n",
    "# Removing the last Kd value\n",
    "last_kd_removed = kd.pop()\n",
    "print(kd)"
   ]
  },
  {
   "cell_type": "code",
   "execution_count": 27,
   "id": "2e690e6e",
   "metadata": {},
   "outputs": [],
   "source": [
    "# Slicing to get Kd values from the second to the fourth entry\n",
    "subset_kd = kd[1:4]\n",
    "\n",
    "# Slicing to get the first three Kd values\n",
    "start_kd = kd[:3]\n",
    "\n",
    "# Slicing to get the last three Kd values\n",
    "end_kd = kd[-3:]\n",
    "\n",
    "#Try printing all of these variable like in the above codes"
   ]
  },
  {
   "cell_type": "code",
   "execution_count": 28,
   "id": "35ab2d07",
   "metadata": {},
   "outputs": [
    {
     "name": "stdout",
     "output_type": "stream",
     "text": [
      "Help on class list in module builtins:\n",
      "\n",
      "class list(object)\n",
      " |  list(iterable=(), /)\n",
      " |\n",
      " |  Built-in mutable sequence.\n",
      " |\n",
      " |  If no argument is given, the constructor creates a new empty list.\n",
      " |  The argument must be an iterable if specified.\n",
      " |\n",
      " |  Methods defined here:\n",
      " |\n",
      " |  __add__(self, value, /)\n",
      " |      Return self+value.\n",
      " |\n",
      " |  __contains__(self, key, /)\n",
      " |      Return bool(key in self).\n",
      " |\n",
      " |  __delitem__(self, key, /)\n",
      " |      Delete self[key].\n",
      " |\n",
      " |  __eq__(self, value, /)\n",
      " |      Return self==value.\n",
      " |\n",
      " |  __ge__(self, value, /)\n",
      " |      Return self>=value.\n",
      " |\n",
      " |  __getattribute__(self, name, /)\n",
      " |      Return getattr(self, name).\n",
      " |\n",
      " |  __getitem__(self, index, /)\n",
      " |      Return self[index].\n",
      " |\n",
      " |  __gt__(self, value, /)\n",
      " |      Return self>value.\n",
      " |\n",
      " |  __iadd__(self, value, /)\n",
      " |      Implement self+=value.\n",
      " |\n",
      " |  __imul__(self, value, /)\n",
      " |      Implement self*=value.\n",
      " |\n",
      " |  __init__(self, /, *args, **kwargs)\n",
      " |      Initialize self.  See help(type(self)) for accurate signature.\n",
      " |\n",
      " |  __iter__(self, /)\n",
      " |      Implement iter(self).\n",
      " |\n",
      " |  __le__(self, value, /)\n",
      " |      Return self<=value.\n",
      " |\n",
      " |  __len__(self, /)\n",
      " |      Return len(self).\n",
      " |\n",
      " |  __lt__(self, value, /)\n",
      " |      Return self<value.\n",
      " |\n",
      " |  __mul__(self, value, /)\n",
      " |      Return self*value.\n",
      " |\n",
      " |  __ne__(self, value, /)\n",
      " |      Return self!=value.\n",
      " |\n",
      " |  __repr__(self, /)\n",
      " |      Return repr(self).\n",
      " |\n",
      " |  __reversed__(self, /)\n",
      " |      Return a reverse iterator over the list.\n",
      " |\n",
      " |  __rmul__(self, value, /)\n",
      " |      Return value*self.\n",
      " |\n",
      " |  __setitem__(self, key, value, /)\n",
      " |      Set self[key] to value.\n",
      " |\n",
      " |  __sizeof__(self, /)\n",
      " |      Return the size of the list in memory, in bytes.\n",
      " |\n",
      " |  append(self, object, /)\n",
      " |      Append object to the end of the list.\n",
      " |\n",
      " |  clear(self, /)\n",
      " |      Remove all items from list.\n",
      " |\n",
      " |  copy(self, /)\n",
      " |      Return a shallow copy of the list.\n",
      " |\n",
      " |  count(self, value, /)\n",
      " |      Return number of occurrences of value.\n",
      " |\n",
      " |  extend(self, iterable, /)\n",
      " |      Extend list by appending elements from the iterable.\n",
      " |\n",
      " |  index(self, value, start=0, stop=9223372036854775807, /)\n",
      " |      Return first index of value.\n",
      " |\n",
      " |      Raises ValueError if the value is not present.\n",
      " |\n",
      " |  insert(self, index, object, /)\n",
      " |      Insert object before index.\n",
      " |\n",
      " |  pop(self, index=-1, /)\n",
      " |      Remove and return item at index (default last).\n",
      " |\n",
      " |      Raises IndexError if list is empty or index is out of range.\n",
      " |\n",
      " |  remove(self, value, /)\n",
      " |      Remove first occurrence of value.\n",
      " |\n",
      " |      Raises ValueError if the value is not present.\n",
      " |\n",
      " |  reverse(self, /)\n",
      " |      Reverse *IN PLACE*.\n",
      " |\n",
      " |  sort(self, /, *, key=None, reverse=False)\n",
      " |      Sort the list in ascending order and return None.\n",
      " |\n",
      " |      The sort is in-place (i.e. the list itself is modified) and stable (i.e. the\n",
      " |      order of two equal elements is maintained).\n",
      " |\n",
      " |      If a key function is given, apply it once to each list item and sort them,\n",
      " |      ascending or descending, according to their function values.\n",
      " |\n",
      " |      The reverse flag can be set to sort in descending order.\n",
      " |\n",
      " |  ----------------------------------------------------------------------\n",
      " |  Class methods defined here:\n",
      " |\n",
      " |  __class_getitem__(...) from builtins.type\n",
      " |      See PEP 585\n",
      " |\n",
      " |  ----------------------------------------------------------------------\n",
      " |  Static methods defined here:\n",
      " |\n",
      " |  __new__(*args, **kwargs) from builtins.type\n",
      " |      Create and return a new object.  See help(type) for accurate signature.\n",
      " |\n",
      " |  ----------------------------------------------------------------------\n",
      " |  Data and other attributes defined here:\n",
      " |\n",
      " |  __hash__ = None\n",
      "\n"
     ]
    }
   ],
   "source": [
    "help(list)"
   ]
  },
  {
   "cell_type": "code",
   "execution_count": 29,
   "id": "e5b2f04d",
   "metadata": {},
   "outputs": [],
   "source": [
    "# Dictionary of atomic weights of elements (in atomic mass units)\n",
    "atomic_weights = {\n",
    "    \"H\": 1.008,\n",
    "    \"O\": 15.999,\n",
    "    \"C\": 12.011,\n",
    "    \"N\": 14.007\n",
    "}"
   ]
  },
  {
   "cell_type": "code",
   "execution_count": 31,
   "id": "6c4620fc",
   "metadata": {},
   "outputs": [
    {
     "name": "stdout",
     "output_type": "stream",
     "text": [
      "Atomic weight of Oxygen: 15.999\n"
     ]
    }
   ],
   "source": [
    "# Accessing the atomic weight of Oxygen\n",
    "oxygen_weight = atomic_weights[\"O\"]\n",
    "print(\"Atomic weight of Oxygen:\", oxygen_weight)"
   ]
  },
  {
   "cell_type": "code",
   "execution_count": 32,
   "id": "3f2cf65b",
   "metadata": {},
   "outputs": [
    {
     "name": "stdout",
     "output_type": "stream",
     "text": [
      "Genes affected by either Compound A or B: {'gene1', 'gene3', 'gene5', 'gene2', 'gene6', 'gene4'}\n",
      "Genes uniquely affected by Compound A: {'gene1', 'gene2'}\n",
      "Genes uniquely affected by either Compound A or B: {'gene1', 'gene5', 'gene2', 'gene6'}\n"
     ]
    }
   ],
   "source": [
    "# Genes affected by Compound A\n",
    "genes_compound_a = {\"gene1\", \"gene2\", \"gene3\", \"gene4\"}\n",
    "\n",
    "# Genes affected by Compound B\n",
    "genes_compound_b = {\"gene3\", \"gene4\", \"gene5\", \"gene6\"}\n",
    "\n",
    "# Union: All genes affected by either Compound A or B\n",
    "all_affected_genes = genes_compound_a | genes_compound_b\n",
    "print(\"Genes affected by either Compound A or B:\", all_affected_genes)\n",
    "\n",
    "# Difference: Genes affected by Compound A but not by Compound B\n",
    "unique_to_a = genes_compound_a - genes_compound_b\n",
    "print(\"Genes uniquely affected by Compound A:\", unique_to_a)\n",
    "\n",
    "# Symmetric Difference: Genes affected by either Compound A or B, but not both\n",
    "unique_genes = genes_compound_a ^ genes_compound_b\n",
    "print(\"Genes uniquely affected by either Compound A or B:\", unique_genes)"
   ]
  },
  {
   "cell_type": "code",
   "execution_count": 33,
   "id": "0b51ca39",
   "metadata": {},
   "outputs": [
    {
     "name": "stdout",
     "output_type": "stream",
     "text": [
      "The pIC50 value is:  6.0\n"
     ]
    }
   ],
   "source": [
    "import math #usually you import libraries at the top of your script\n",
    "\n",
    "# Single IC50 value\n",
    "ic50_value = 1  # IC50 in micromolar units\n",
    "ic50_moles = ic50_value/1000000\n",
    "\n",
    "# Convert IC50 to pIC50\n",
    "pIC50 = -math.log10(ic50_moles)\n",
    "print(\"The pIC50 value is: \",pIC50)"
   ]
  },
  {
   "cell_type": "code",
   "execution_count": 34,
   "id": "8f5c2502",
   "metadata": {},
   "outputs": [],
   "source": [
    "# Function to convert IC50 to pIC50\n",
    "def convert_to_pIC50(ic50_value):\n",
    "    ic50_moles = ic50_value/1000000\n",
    "    pIC50 = -math.log10(ic50_moles)\n",
    "    return pIC50"
   ]
  },
  {
   "cell_type": "code",
   "execution_count": 35,
   "id": "ce1e1253",
   "metadata": {},
   "outputs": [
    {
     "name": "stdout",
     "output_type": "stream",
     "text": [
      "The pIC50 value is:  6.0\n"
     ]
    }
   ],
   "source": [
    "# Example IC50 value\n",
    "ic50_example = 1\n",
    "\n",
    "# Call the function to convert IC50 to pIC50\n",
    "pIC50_value = convert_to_pIC50(ic50_example)\n",
    "print(f\"The pIC50 value is: \", pIC50_value)"
   ]
  },
  {
   "cell_type": "code",
   "execution_count": 36,
   "id": "cb19d53d",
   "metadata": {},
   "outputs": [
    {
     "data": {
      "text/plain": [
       "9.0"
      ]
     },
     "execution_count": 36,
     "metadata": {},
     "output_type": "execute_result"
    }
   ],
   "source": [
    "convert_to_pIC50(0.001)"
   ]
  }
 ],
 "metadata": {
  "kernelspec": {
   "display_name": "Python 3 (ipykernel)",
   "language": "python",
   "name": "python3"
  },
  "language_info": {
   "codemirror_mode": {
    "name": "ipython",
    "version": 3
   },
   "file_extension": ".py",
   "mimetype": "text/x-python",
   "name": "python",
   "nbconvert_exporter": "python",
   "pygments_lexer": "ipython3",
   "version": "3.12.0"
  }
 },
 "nbformat": 4,
 "nbformat_minor": 5
}
