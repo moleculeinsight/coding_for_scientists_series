{
 "cells": [
  {
   "cell_type": "markdown",
   "id": "9d0048b3",
   "metadata": {},
   "source": [
    "__[Here is the post associated with this notebook](https://moleculeinsight.com/coding-for-scientists-001/)__"
   ]
  },
  {
   "cell_type": "code",
   "execution_count": 12,
   "id": "e4c3d8bf-614e-4228-90bf-166c85b3cdcd",
   "metadata": {},
   "outputs": [],
   "source": [
    "import pandas as pd\n",
    "import seaborn as sns\n",
    "import math"
   ]
  },
  {
   "cell_type": "code",
   "execution_count": 13,
   "id": "5db406a3",
   "metadata": {},
   "outputs": [],
   "source": [
    "compound_names = [\"CompoundA\", \"CompoundB\", \"CompoundC\", \"CompoundD\", \"CompoundE\", \"CompoundF\", \"CompoundG\", \"CompoundH\", \"CompoundI\"]\n",
    "\n",
    "ic50_values = [50.0, 10.0, 2, 5, 0.01,0.001, 100.0, 500.0, 150.0]"
   ]
  },
  {
   "cell_type": "code",
   "execution_count": 6,
   "id": "f286b04c",
   "metadata": {},
   "outputs": [],
   "source": [
    "pic50_values = []\n",
    "for ic50 in ic50_values:\n",
    "    ic50_molar = ic50/1000000 #converts IC50 values to molar concentration\n",
    "    pic50 = -math.log10(ic50_molar)\n",
    "    pic50_values.append(pic50)"
   ]
  },
  {
   "cell_type": "code",
   "execution_count": 7,
   "id": "cb2c1f2f",
   "metadata": {},
   "outputs": [],
   "source": [
    "classification = []\n",
    "for pic50 in pic50_values:\n",
    "    if pic50 > 7.0:\n",
    "        classification.append('Great')\n",
    "    elif 5.0 <= pic50 <= 7.0:\n",
    "        classification.append('Good')\n",
    "    else:\n",
    "        classification.append('Bad')"
   ]
  },
  {
   "cell_type": "code",
   "execution_count": 8,
   "id": "b6f5e9d1",
   "metadata": {},
   "outputs": [],
   "source": [
    "kinase_df = pd.DataFrame({\n",
    "    'Name': compound_names,\n",
    "    'IC50_values': ic50_values,\n",
    "    'pIC50_values': pic50_values,\n",
    "    'potency_class': classification\n",
    "})"
   ]
  },
  {
   "cell_type": "code",
   "execution_count": 9,
   "id": "ce66cc28",
   "metadata": {},
   "outputs": [
    {
     "data": {
      "text/html": [
       "<div>\n",
       "<style scoped>\n",
       "    .dataframe tbody tr th:only-of-type {\n",
       "        vertical-align: middle;\n",
       "    }\n",
       "\n",
       "    .dataframe tbody tr th {\n",
       "        vertical-align: top;\n",
       "    }\n",
       "\n",
       "    .dataframe thead th {\n",
       "        text-align: right;\n",
       "    }\n",
       "</style>\n",
       "<table border=\"1\" class=\"dataframe\">\n",
       "  <thead>\n",
       "    <tr style=\"text-align: right;\">\n",
       "      <th></th>\n",
       "      <th>Name</th>\n",
       "      <th>IC50_values</th>\n",
       "      <th>pIC50_values</th>\n",
       "      <th>potency_class</th>\n",
       "    </tr>\n",
       "  </thead>\n",
       "  <tbody>\n",
       "    <tr>\n",
       "      <th>0</th>\n",
       "      <td>CompoundA</td>\n",
       "      <td>50.000</td>\n",
       "      <td>4.301030</td>\n",
       "      <td>Bad</td>\n",
       "    </tr>\n",
       "    <tr>\n",
       "      <th>1</th>\n",
       "      <td>CompoundB</td>\n",
       "      <td>10.000</td>\n",
       "      <td>5.000000</td>\n",
       "      <td>Good</td>\n",
       "    </tr>\n",
       "    <tr>\n",
       "      <th>2</th>\n",
       "      <td>CompoundC</td>\n",
       "      <td>2.000</td>\n",
       "      <td>5.698970</td>\n",
       "      <td>Good</td>\n",
       "    </tr>\n",
       "    <tr>\n",
       "      <th>3</th>\n",
       "      <td>CompoundD</td>\n",
       "      <td>5.000</td>\n",
       "      <td>5.301030</td>\n",
       "      <td>Good</td>\n",
       "    </tr>\n",
       "    <tr>\n",
       "      <th>4</th>\n",
       "      <td>CompoundE</td>\n",
       "      <td>0.010</td>\n",
       "      <td>8.000000</td>\n",
       "      <td>Great</td>\n",
       "    </tr>\n",
       "    <tr>\n",
       "      <th>5</th>\n",
       "      <td>CompoundF</td>\n",
       "      <td>0.001</td>\n",
       "      <td>9.000000</td>\n",
       "      <td>Great</td>\n",
       "    </tr>\n",
       "    <tr>\n",
       "      <th>6</th>\n",
       "      <td>CompoundG</td>\n",
       "      <td>100.000</td>\n",
       "      <td>4.000000</td>\n",
       "      <td>Bad</td>\n",
       "    </tr>\n",
       "    <tr>\n",
       "      <th>7</th>\n",
       "      <td>CompoundH</td>\n",
       "      <td>500.000</td>\n",
       "      <td>3.301030</td>\n",
       "      <td>Bad</td>\n",
       "    </tr>\n",
       "    <tr>\n",
       "      <th>8</th>\n",
       "      <td>CompoundI</td>\n",
       "      <td>150.000</td>\n",
       "      <td>3.823909</td>\n",
       "      <td>Bad</td>\n",
       "    </tr>\n",
       "  </tbody>\n",
       "</table>\n",
       "</div>"
      ],
      "text/plain": [
       "        Name  IC50_values  pIC50_values potency_class\n",
       "0  CompoundA       50.000      4.301030           Bad\n",
       "1  CompoundB       10.000      5.000000          Good\n",
       "2  CompoundC        2.000      5.698970          Good\n",
       "3  CompoundD        5.000      5.301030          Good\n",
       "4  CompoundE        0.010      8.000000         Great\n",
       "5  CompoundF        0.001      9.000000         Great\n",
       "6  CompoundG      100.000      4.000000           Bad\n",
       "7  CompoundH      500.000      3.301030           Bad\n",
       "8  CompoundI      150.000      3.823909           Bad"
      ]
     },
     "execution_count": 9,
     "metadata": {},
     "output_type": "execute_result"
    }
   ],
   "source": [
    "kinase_df"
   ]
  },
  {
   "cell_type": "code",
   "execution_count": 10,
   "id": "99e0a0b9",
   "metadata": {},
   "outputs": [
    {
     "data": {
      "text/plain": [
       "<Axes: xlabel='potency_class', ylabel='count'>"
      ]
     },
     "execution_count": 10,
     "metadata": {},
     "output_type": "execute_result"
    },
    {
     "data": {
      "image/png": "[encoded data removed]",
      "text/plain": [
       "<Figure size 640x480 with 1 Axes>"
      ]
     },
     "metadata": {},
     "output_type": "display_data"
    }
   ],
   "source": [
    "sns.countplot(kinase_df, x='potency_class')"
   ]
  },
  {
   "cell_type": "code",
   "execution_count": 11,
   "id": "c56b7e1c",
   "metadata": {},
   "outputs": [],
   "source": [
    "kinase_df.to_csv('my_first_csv_created_by_pandas.csv')"
   ]
  }
 ],
 "metadata": {
  "kernelspec": {
   "display_name": "Python 3 (ipykernel)",
   "language": "python",
   "name": "python3"
  },
  "language_info": {
   "codemirror_mode": {
    "name": "ipython",
    "version": 3
   },
   "file_extension": ".py",
   "mimetype": "text/x-python",
   "name": "python",
   "nbconvert_exporter": "python",
   "pygments_lexer": "ipython3",
   "version": "3.12.0"
  }
 },
 "nbformat": 4,
 "nbformat_minor": 5
}
